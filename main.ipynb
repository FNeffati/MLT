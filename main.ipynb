{
 "cells": [
  {
   "cell_type": "code",
   "execution_count": 33,
   "outputs": [
    {
     "name": "stderr",
     "output_type": "stream",
     "text": [
      "Using the latest cached version of the dataset since wmt14 couldn't be found on the Hugging Face Hub\n",
      "Found the latest cached dataset configuration 'de-en' at /Users/fneffati/.cache/huggingface/datasets/wmt14/de-en/0.0.0/b199e406369ec1b7634206d3ded5ba45de2fe696 (last modified on Thu May  9 09:17:47 2024).\n"
     ]
    },
    {
     "data": {
      "text/plain": "Resolving data files:   0%|          | 0/30 [00:00<?, ?it/s]",
      "application/vnd.jupyter.widget-view+json": {
       "version_major": 2,
       "version_minor": 0,
       "model_id": "34e229aa315b4241baffb8c2273a7e4c"
      }
     },
     "metadata": {},
     "output_type": "display_data"
    },
    {
     "data": {
      "text/plain": "Loading dataset shards:   0%|          | 0/30 [00:00<?, ?it/s]",
      "application/vnd.jupyter.widget-view+json": {
       "version_major": 2,
       "version_minor": 0,
       "model_id": "1d0fee9d523b4897a8803ba50d0445d0"
      }
     },
     "metadata": {},
     "output_type": "display_data"
    },
    {
     "name": "stderr",
     "output_type": "stream",
     "text": [
      "/Users/fneffati/Documents/venv/lib/python3.9/site-packages/huggingface_hub/file_download.py:1132: FutureWarning: `resume_download` is deprecated and will be removed in version 1.0.0. Downloads always resume when possible. If you want to force a new download, use `force_download=True`.\n",
      "  warnings.warn(\n"
     ]
    }
   ],
   "source": [
    "from datasets import load_dataset\n",
    "from transformers import AutoTokenizer\n",
    "\n",
    "raw_de_dataset = load_dataset(\"wmt14\", \"de-en\",  keep_in_memory=True)\n",
    "raw_fr_dataset = load_dataset(\"wmt14\", \"fr-en\",  keep_in_memory=True)\n",
    "\n",
    "# Initialize tokenizer\n",
    "tokenizer = AutoTokenizer.from_pretrained(\"t5-base\")"
   ],
   "metadata": {
    "collapsed": false,
    "ExecuteTime": {
     "end_time": "2024-05-14T12:17:27.753891Z",
     "start_time": "2024-05-14T12:16:15.707375Z"
    }
   },
   "id": "990f79a4e803ba13"
  },
  {
   "cell_type": "code",
   "execution_count": 34,
   "outputs": [
    {
     "name": "stdout",
     "output_type": "stream",
     "text": [
      "32100\n"
     ]
    }
   ],
   "source": [
    "print(tokenizer.vocab_size)"
   ],
   "metadata": {
    "collapsed": false,
    "ExecuteTime": {
     "end_time": "2024-05-14T12:18:00.885265Z",
     "start_time": "2024-05-14T12:18:00.872873Z"
    }
   },
   "id": "71c8ff0a20545998"
  },
  {
   "cell_type": "code",
   "execution_count": 35,
   "outputs": [],
   "source": [
    "import numpy as np\n",
    "\n",
    "train_set_np = np.array(raw_de_dataset['train'])\n",
    "test_set_np  = np.array(raw_de_dataset['test'])"
   ],
   "metadata": {
    "collapsed": false,
    "ExecuteTime": {
     "end_time": "2024-05-14T12:19:51.747156Z",
     "start_time": "2024-05-14T12:18:12.929946Z"
    }
   },
   "id": "d5f71b6c3436ed70"
  },
  {
   "cell_type": "code",
   "execution_count": 36,
   "outputs": [
    {
     "data": {
      "text/plain": "{'translation': {'de': 'Zu den Attentatsopfern, die es in jüngster Zeit in Sri Lanka zu beklagen gab, zählt auch Herr Kumar Ponnambalam, der dem Europäischen Parlament erst vor wenigen Monaten einen Besuch abgestattet hatte.',\n  'en': 'One of the people assassinated very recently in Sri Lanka was Mr Kumar Ponnambalam, who had visited the European Parliament just a few months ago.'}}"
     },
     "execution_count": 36,
     "metadata": {},
     "output_type": "execute_result"
    }
   ],
   "source": [
    "train_set_np[9]"
   ],
   "metadata": {
    "collapsed": false,
    "ExecuteTime": {
     "end_time": "2024-05-14T12:20:01.533181Z",
     "start_time": "2024-05-14T12:20:01.529162Z"
    }
   },
   "id": "4480b3f8ae47c2e0"
  },
  {
   "cell_type": "code",
   "execution_count": 37,
   "outputs": [],
   "source": [
    "def tokenize_de(example, src_lang_token, max_length=50):\n",
    "    src_text = src_lang_token + \" \" + example[\"translation\"][\"de\"]\n",
    "    tgt_text = example[\"translation\"][\"en\"]\n",
    "\n",
    "    src_encoding = tokenizer(src_text, truncation=True, max_length=max_length, padding='max_length',  return_tensors=\"pt\")\n",
    "    tgt_encoding = tokenizer(tgt_text, truncation=True, max_length=max_length, padding='max_length', return_tensors=\"pt\")\n",
    "\n",
    "    src_ids = src_encoding[\"input_ids\"]\n",
    "    tgt_ids = tgt_encoding[\"input_ids\"]\n",
    "    \n",
    "    result = src_ids, tgt_ids\n",
    "\n",
    "    return result"
   ],
   "metadata": {
    "collapsed": false,
    "ExecuteTime": {
     "end_time": "2024-05-14T12:20:01.826650Z",
     "start_time": "2024-05-14T12:20:01.818918Z"
    }
   },
   "id": "193035aa96545b57"
  },
  {
   "cell_type": "code",
   "execution_count": 620,
   "outputs": [],
   "source": [
    "counter = 0\n",
    "train_set_tokenized = []\n",
    "for item in train_set_np:\n",
    "    train_set_tokenized.append(tokenize_de(item, \"<2de>\"))\n",
    "    \n",
    "    counter += 1\n",
    "    if counter == 200000:\n",
    "        break\n",
    "    \n",
    "train_set_tokenized_flat = [[item for sublist in inner_list for item in sublist] for inner_list in train_set_tokenized]"
   ],
   "metadata": {
    "collapsed": false,
    "ExecuteTime": {
     "end_time": "2024-05-13T16:57:35.026415Z",
     "start_time": "2024-05-13T16:56:41.929541Z"
    }
   },
   "id": "cadfdab602195bd1"
  },
  {
   "cell_type": "code",
   "execution_count": 621,
   "outputs": [],
   "source": [
    "counter = 0 \n",
    "\n",
    "test_set_tokenized = []\n",
    "for item in test_set_np:\n",
    "    test_set_tokenized.append(tokenize_de(item, \"<2de>\"))\n",
    "    \n",
    "test_set_tokenized_flat = [[item for sublist in inner_list for item in sublist] for inner_list in test_set_tokenized]"
   ],
   "metadata": {
    "collapsed": false,
    "ExecuteTime": {
     "end_time": "2024-05-13T16:57:35.633709Z",
     "start_time": "2024-05-13T16:57:35.019503Z"
    }
   },
   "id": "604c38684c61c59d"
  },
  {
   "cell_type": "markdown",
   "source": [
    "# Model Architecture "
   ],
   "metadata": {
    "collapsed": false
   },
   "id": "98afad66babd60fa"
  },
  {
   "cell_type": "code",
   "execution_count": 20,
   "outputs": [],
   "source": [
    "import torch \n",
    "import torch.nn as nn"
   ],
   "metadata": {
    "collapsed": false,
    "ExecuteTime": {
     "end_time": "2024-05-14T12:14:18.345539Z",
     "start_time": "2024-05-14T12:14:18.340700Z"
    }
   },
   "id": "3eaffb01f50c44e"
  },
  {
   "cell_type": "markdown",
   "source": [
    "## Encoder "
   ],
   "metadata": {
    "collapsed": false
   },
   "id": "52a028ab5e9462fb"
  },
  {
   "cell_type": "markdown",
   "source": [
    "## Input Embedding"
   ],
   "metadata": {
    "collapsed": false
   },
   "id": "6705dfeca672aae7"
  },
  {
   "cell_type": "code",
   "execution_count": 21,
   "outputs": [],
   "source": [
    "class SelfAttention(nn.Module):\n",
    "    def __init__(self, embed_size, heads):\n",
    "        super(SelfAttention, self).__init__()\n",
    "        self.embed_size = embed_size\n",
    "        self.heads = heads\n",
    "        self.head_dim = embed_size // heads\n",
    "        \n",
    "        assert (self.head_dim * heads == embed_size), \"Embedding size needs to be divisible by heads\"\n",
    "        self.values = nn.Linear(self.head_dim, self.head_dim)\n",
    "        self.keys = nn.Linear(self.head_dim, self.head_dim)\n",
    "        self.queries = nn.Linear(self.head_dim, self.head_dim)\n",
    "        self.fc_out = nn.Linear(heads*self.head_dim, embed_size)\n",
    "        \n",
    "    def forward(self, values, keys, query, mask):\n",
    "        N = query.shape[0]\n",
    "        value_len, key_len, query_len =   values.shape[1], keys.shape[1], query.shape[1]\n",
    "        \n",
    "    \n",
    "        #split embeddings into self.heads pieces\n",
    "        values = values.reshape(N, value_len, self.heads, self.head_dim)\n",
    "        keys = keys.reshape(N, key_len, self.heads, self.head_dim)\n",
    "        queries = query.reshape(N, query_len, self.heads, self.head_dim)\n",
    "        \n",
    "        values = self.values(values)\n",
    "        keys = self.keys(keys)\n",
    "        queries = self.queries(queries)\n",
    "        \n",
    "    \n",
    "        \n",
    "        energy = torch.einsum(\"nqhd,nkhd->nhqk\", [queries, keys])\n",
    "        # queries shape: (N, query len, heads, heads_dim)\n",
    "        # keys shape: (N, key_len, heads, heads_dim)\n",
    "        # energy shape: (N, heads, query_len, key_len\n",
    "        \n",
    "        if mask is not None:\n",
    "            energy = energy.masked_fill(mask == 0, float(\"-1e20\"))\n",
    "            \n",
    "        attention = torch.softmax(energy / (self.embed_size ** (1/2)), dim=3)\n",
    "        out = torch.einsum(\"nhql,nlhd->nqhd\",[attention, values]).reshape(\n",
    "            N, query_len, self.heads*self.head_dim\n",
    "        )\n",
    "        # attention shape: (N, heads, query_len, key_len)\n",
    "        # values shape: (N, value_len, heads, heads_dim)\n",
    "        # (N, query_len, heads, head_dim) then flatten last two dimensions\n",
    "        \n",
    "        out = self.fc_out(out)\n",
    "        return out        "
   ],
   "metadata": {
    "collapsed": false,
    "ExecuteTime": {
     "end_time": "2024-05-14T12:14:19.795Z",
     "start_time": "2024-05-14T12:14:19.778472Z"
    }
   },
   "id": "613e5591b7582b1a"
  },
  {
   "cell_type": "code",
   "execution_count": 22,
   "outputs": [],
   "source": [
    "class TransformerBlock(nn.Module):\n",
    "    def __init__(self, embed_size, heads, dropout, forward_expansion):\n",
    "        super(TransformerBlock, self).__init__()\n",
    "        self.attention = SelfAttention(embed_size, heads)\n",
    "        self.norm1 = nn.LayerNorm(embed_size)\n",
    "        self.norm2 = nn.LayerNorm(embed_size)\n",
    "        \n",
    "        self.feed_forward = nn.Sequential(\n",
    "            nn.Linear(embed_size, forward_expansion*embed_size),\n",
    "            nn.ReLU(),\n",
    "            nn.Linear(forward_expansion*embed_size, embed_size),\n",
    "        )\n",
    "        self.dropout = nn.Dropout(dropout)\n",
    "        \n",
    "    def forward(self, value, key, query, mask):\n",
    "        attention = self.attention(value, key, query, mask)\n",
    "        x = self.dropout(self.norm1(attention + query))\n",
    "        forward = self.feed_forward(x)\n",
    "        out = self.dropout(self.norm2(forward + x))\n",
    "        return out"
   ],
   "metadata": {
    "collapsed": false,
    "ExecuteTime": {
     "end_time": "2024-05-14T12:14:20.255376Z",
     "start_time": "2024-05-14T12:14:20.252913Z"
    }
   },
   "id": "eab0d8b27999f93a"
  },
  {
   "cell_type": "markdown",
   "source": [
    "## Encoder"
   ],
   "metadata": {
    "collapsed": false
   },
   "id": "7381a804f5796d2c"
  },
  {
   "cell_type": "code",
   "execution_count": 23,
   "outputs": [],
   "source": [
    "class Encoder(nn.Module):\n",
    "    def __init__(self,\n",
    "                 src_vocab_size,\n",
    "                 embed_size,\n",
    "                 num_layers,\n",
    "                 heads,\n",
    "                 device,\n",
    "                 forward_expansion,\n",
    "                 dropout,\n",
    "                 max_length,):\n",
    "        super(Encoder, self).__init__()\n",
    "        self.embed_size = embed_size\n",
    "        self.device = device\n",
    "        self.word_embedding = nn.Embedding(src_vocab_size, embed_size)\n",
    "        self.position_embedding = nn.Embedding(max_length, embed_size)\n",
    "        self.layers = nn.ModuleList(\n",
    "            [\n",
    "                TransformerBlock(\n",
    "                    embed_size, heads, dropout=dropout, forward_expansion=forward_expansion\n",
    "                )\n",
    "                for _ in range(num_layers)\n",
    "            ]\n",
    "        )\n",
    "        self.dropout = nn.Dropout(dropout)\n",
    "        \n",
    "    def forward(self, x, mask):\n",
    "        N, seq_length = x.shape\n",
    "        positions = torch.arange(0, seq_length).expand(N, seq_length).to(self.device)\n",
    "        \n",
    "        # print(f\"Input tensor x shape: {x.shape}\")\n",
    "        # print(f\"Input tensor x min value: {x.min().item()}\")\n",
    "        # print(f\"Input tensor x max value: {x.max().item()}\")\n",
    "        # print(f\"Word embedding vocabulary size: {self.word_embedding.weight.size(0)}\")\n",
    "        \n",
    "        out = self.dropout(self.word_embedding(x) + self.position_embedding(positions))\n",
    "                \n",
    "        for layer in self.layers:\n",
    "            out = layer(out, out ,out, mask)\n",
    "        return out "
   ],
   "metadata": {
    "collapsed": false,
    "ExecuteTime": {
     "end_time": "2024-05-14T12:14:21.341183Z",
     "start_time": "2024-05-14T12:14:21.334010Z"
    }
   },
   "id": "2fbdab854c5c4027"
  },
  {
   "cell_type": "markdown",
   "source": [
    "### Decder"
   ],
   "metadata": {
    "collapsed": false
   },
   "id": "3e5d50b4ccb103b5"
  },
  {
   "cell_type": "code",
   "execution_count": 24,
   "outputs": [],
   "source": [
    "class DecoderBlock(nn.Module):\n",
    "    def __init__(self, embed_size, heads, forward_expansion, dropout, device):\n",
    "        super(DecoderBlock, self).__init__()\n",
    "        self.attention = SelfAttention(embed_size, heads)\n",
    "        self.norm = nn.LayerNorm(embed_size)\n",
    "        self.transformer_block = TransformerBlock(embed_size, heads, dropout, forward_expansion)\n",
    "        self.dropout = nn.Dropout(dropout)\n",
    "        \n",
    "    def forward(self, x, value, key , src_mask, trg_mask):\n",
    "        attention = self.attention(x, x, x, trg_mask)\n",
    "        query = self.dropout(self.norm(attention + x))\n",
    "        out = self.transformer_block(value, key, query, src_mask)\n",
    "        return out \n",
    "    \n",
    "class Decoder(nn.Module):\n",
    "    def __init__(self, trg_vocab_size, embed_size, num_layers, heads, forward_expansion, dropout, device, max_length):\n",
    "        super(Decoder, self).__init__()\n",
    "        self.device = device\n",
    "        self.word_embedding = nn.Embedding(trg_vocab_size, embed_size)\n",
    "        self.position_embedding = nn.Embedding(max_length, embed_size)\n",
    "        \n",
    "        self.layers = nn.ModuleList(\n",
    "            [DecoderBlock(embed_size, heads, forward_expansion, dropout, device)\n",
    "             for _ in range(num_layers)]\n",
    "        )\n",
    "        self.fc_out = nn.Linear(embed_size, trg_vocab_size)\n",
    "        self.dropout = nn.Dropout(dropout)\n",
    "    def forward(self, x, enc_out, src_mask, trg_mask):\n",
    "        N, seq_length = x.shape\n",
    "        positions = torch.arange(0, seq_length).expand(N, seq_length).to(self.device)\n",
    "        x = self.dropout((self.word_embedding(x) + self.position_embedding(positions)))\n",
    "        \n",
    "        for layer in self.layers:\n",
    "            x = layer(x, enc_out, enc_out, src_mask, trg_mask)\n",
    "        out = self.fc_out(x)\n",
    "        return out"
   ],
   "metadata": {
    "collapsed": false,
    "ExecuteTime": {
     "end_time": "2024-05-14T12:14:22.426561Z",
     "start_time": "2024-05-14T12:14:22.418173Z"
    }
   },
   "id": "fc9da1a241f6453"
  },
  {
   "cell_type": "code",
   "execution_count": 25,
   "outputs": [],
   "source": [
    "class Transformer(nn.Module):\n",
    "    def __init__(self, src_vocab_size, trg_vocab_size, src_pad_idx, trg_pad_idx, embed_size=256, num_layers=6, forward_expansion=4, heads=8, dropout=0, device=\"cpu\", max_length=100):\n",
    "        super(Transformer, self).__init__()\n",
    "        self.encoder = Encoder(\n",
    "            src_vocab_size,\n",
    "            embed_size,\n",
    "            num_layers,\n",
    "            heads,\n",
    "            device,\n",
    "            forward_expansion,\n",
    "            dropout,\n",
    "            max_length\n",
    "        )\n",
    "        \n",
    "        self.decoder = Decoder(\n",
    "            trg_vocab_size, embed_size, num_layers, heads, forward_expansion, dropout, device, max_length\n",
    "        )\n",
    "        \n",
    "        self.src_pad_idx = src_pad_idx\n",
    "        self.trg_pad_idx = trg_pad_idx\n",
    "        self.device = device\n",
    "        \n",
    "    def make_src_mask(self, src):\n",
    "        src_mask = (src != self.src_pad_idx).unsqueeze(1).unsqueeze(2)\n",
    "        return src_mask.to(self.device)\n",
    "    \n",
    "    def make_trg_mask(self, trg):\n",
    "        # print(f\"trg shape: {trg.shape}\")\n",
    "        N, trg_len = trg.shape\n",
    "        trg_mask = torch.tril(torch.ones((trg_len, trg_len))).expand(\n",
    "            N, 1, trg_len, trg_len\n",
    "        )\n",
    "        \n",
    "        return trg_mask.to(self.device)\n",
    "    \n",
    "    def forward(self, src, trg):\n",
    "        src_mask = self.make_src_mask(src)\n",
    "        trg_mask = self.make_trg_mask(trg)\n",
    "        enc_src = self.encoder(src, src_mask)\n",
    "        out = self.decoder(trg, enc_src, src_mask, trg_mask)\n",
    "        return out"
   ],
   "metadata": {
    "collapsed": false,
    "ExecuteTime": {
     "end_time": "2024-05-14T12:14:23.181325Z",
     "start_time": "2024-05-14T12:14:23.164696Z"
    }
   },
   "id": "6353729f559a432c"
  },
  {
   "cell_type": "markdown",
   "source": [
    "### Test"
   ],
   "metadata": {
    "collapsed": false
   },
   "id": "473831facd59436f"
  },
  {
   "cell_type": "code",
   "execution_count": 26,
   "outputs": [
    {
     "name": "stdout",
     "output_type": "stream",
     "text": [
      "cpu\n",
      "torch.Size([2, 7, 10])\n"
     ]
    }
   ],
   "source": [
    "device = torch.device(\"cpu\")\n",
    "print(device)\n",
    "\n",
    "x = torch.tensor([[1, 5, 6, 4, 3, 9, 5, 2, 0], [1, 8, 7, 3, 4, 5, 6, 7, 2]]).to(\n",
    "    device\n",
    ")\n",
    "trg = torch.tensor([[1, 7, 4, 3, 5, 9, 2, 0], [1, 5, 6, 2, 4, 7, 6, 2]]).to(device)\n",
    "\n",
    "src_pad_idx = 0\n",
    "trg_pad_idx = 0\n",
    "src_vocab_size = 10\n",
    "trg_vocab_size = 10\n",
    "model = Transformer(src_vocab_size, trg_vocab_size, src_pad_idx, trg_pad_idx, device=device).to(\n",
    "    device\n",
    ")\n",
    "out = model(x, trg[:, :-1])\n",
    "print(out.shape)"
   ],
   "metadata": {
    "collapsed": false,
    "ExecuteTime": {
     "end_time": "2024-05-14T12:14:28.454256Z",
     "start_time": "2024-05-14T12:14:28.329264Z"
    }
   },
   "id": "aa6ef6de421ac9bd"
  },
  {
   "cell_type": "code",
   "execution_count": 27,
   "outputs": [
    {
     "name": "stdout",
     "output_type": "stream",
     "text": [
      "torch.Size([2, 6, 50])\n"
     ]
    }
   ],
   "source": [
    "device = torch.device(\"cpu\")\n",
    "\n",
    "a = torch.tensor( [ [1, 35, 2, 3, 110, 20, 0], [1, 19, 48, 12,  17, 13, 1] ] ).to(device)\n",
    "b = torch.tensor( [[1, 35, 21, 15, 9,  3,  0], [1, 27, 15, 40,  10, 6,   1]] ).to(device)\n",
    "\n",
    "src_pad_idx = 0\n",
    "trg_pad_idx = 0\n",
    "src_vocab_size = 200\n",
    "trg_vocab_size = 50\n",
    "model = Transformer(src_vocab_size, trg_vocab_size, src_pad_idx, trg_pad_idx, device=device).to(device)\n",
    "\n",
    "out = model(a, b[:, :-1])\n",
    "print(out.shape)"
   ],
   "metadata": {
    "collapsed": false,
    "ExecuteTime": {
     "end_time": "2024-05-14T12:14:28.636239Z",
     "start_time": "2024-05-14T12:14:28.583680Z"
    }
   },
   "id": "bd0e2ffdbd610c24"
  },
  {
   "cell_type": "code",
   "execution_count": 587,
   "outputs": [
    {
     "name": "stdout",
     "output_type": "stream",
     "text": [
      "1\n"
     ]
    }
   ],
   "source": [
    "# print(train_set_np[0])\n",
    "print(len(train_set_tokenized[0][0]))\n",
    "# text = tokenizer.decode(train_set_tokenized[0][1], skip_special_tokens=True)\n",
    "# print(train_set_tokenized[0][0])\n",
    "# print(text)"
   ],
   "metadata": {
    "collapsed": false,
    "ExecuteTime": {
     "end_time": "2024-05-13T01:11:13.911110Z",
     "start_time": "2024-05-13T01:11:13.900545Z"
    }
   },
   "id": "4a8efd56e732659a"
  },
  {
   "cell_type": "code",
   "execution_count": 588,
   "outputs": [
    {
     "name": "stdout",
     "output_type": "stream",
     "text": [
      "cpu\n",
      "tensor([[    3,     2,   357,   221,  3155, 15158, 24860,    74, 11216,   425,\n",
      "             7,  4267,    32,   221,     1,     0,     0,     0,     0,     0,\n",
      "             0,     0,     0,     0,     0,     0,     0,     0,     0,     0,\n",
      "             0,     0,     0,     0,     0,     0,     0,     0,     0,     0,\n",
      "             0,     0,     0,     0,     0,     0,     0,     0,     0,     0]])\n",
      "torch.Size([1, 49, 25000])\n"
     ]
    }
   ],
   "source": [
    "device = torch.device(\"cpu\")\n",
    "print(device)\n",
    "\n",
    "x = train_set_tokenized[0][0].to(device)\n",
    "trg = train_set_tokenized[0][1].to(device)\n",
    "\n",
    "print(x)\n",
    "\n",
    "src_pad_idx = 0\n",
    "trg_pad_idx = 0\n",
    "src_vocab_size = 25000\n",
    "trg_vocab_size = 25000\n",
    "model = Transformer(src_vocab_size, trg_vocab_size, src_pad_idx, trg_pad_idx, device=device).to(\n",
    "    device\n",
    ")\n",
    "out = model(x, trg[:, :-1])\n",
    "print(out.shape)\n"
   ],
   "metadata": {
    "collapsed": false,
    "ExecuteTime": {
     "end_time": "2024-05-13T01:11:15.045449Z",
     "start_time": "2024-05-13T01:11:14.850722Z"
    }
   },
   "id": "d4cd496670d7cfbe"
  },
  {
   "cell_type": "code",
   "execution_count": 13,
   "outputs": [
    {
     "ename": "NameError",
     "evalue": "name 'train_set_tokenized_flat' is not defined",
     "output_type": "error",
     "traceback": [
      "\u001B[0;31m---------------------------------------------------------------------------\u001B[0m",
      "\u001B[0;31mNameError\u001B[0m                                 Traceback (most recent call last)",
      "Cell \u001B[0;32mIn[13], line 5\u001B[0m\n\u001B[1;32m      2\u001B[0m \u001B[38;5;28;01mfrom\u001B[39;00m \u001B[38;5;21;01mtorch\u001B[39;00m\u001B[38;5;21;01m.\u001B[39;00m\u001B[38;5;21;01mutils\u001B[39;00m\u001B[38;5;21;01m.\u001B[39;00m\u001B[38;5;21;01mdata\u001B[39;00m \u001B[38;5;28;01mimport\u001B[39;00m DataLoader\n\u001B[1;32m      4\u001B[0m \u001B[38;5;66;03m# Create data loaders\u001B[39;00m\n\u001B[0;32m----> 5\u001B[0m train_loader \u001B[38;5;241m=\u001B[39m DataLoader(\u001B[43mtrain_set_tokenized_flat\u001B[49m, batch_size\u001B[38;5;241m=\u001B[39m\u001B[38;5;241m32\u001B[39m, shuffle\u001B[38;5;241m=\u001B[39m\u001B[38;5;28;01mTrue\u001B[39;00m)\n\u001B[1;32m      6\u001B[0m val_loader \u001B[38;5;241m=\u001B[39m DataLoader(test_set_tokenized_flat, batch_size\u001B[38;5;241m=\u001B[39m\u001B[38;5;241m32\u001B[39m)\n",
      "\u001B[0;31mNameError\u001B[0m: name 'train_set_tokenized_flat' is not defined"
     ]
    }
   ],
   "source": [
    "import torch\n",
    "from torch.utils.data import DataLoader\n",
    "\n",
    "# Create data loaders\n",
    "train_loader = DataLoader(train_set_tokenized_flat, batch_size=32, shuffle=True)\n",
    "val_loader = DataLoader(test_set_tokenized_flat, batch_size=32)"
   ],
   "metadata": {
    "collapsed": false,
    "ExecuteTime": {
     "end_time": "2024-05-14T12:13:51.044302Z",
     "start_time": "2024-05-14T12:13:51.009213Z"
    }
   },
   "id": "848fee6f3f620346"
  },
  {
   "cell_type": "code",
   "execution_count": 623,
   "outputs": [],
   "source": [
    "# Define the model, loss function, and optimizer\n",
    "device = torch.device(\"cpu\")\n",
    "model = Transformer(src_vocab_size=35000, \n",
    "                    trg_vocab_size=35000, \n",
    "                    src_pad_idx=0, \n",
    "                    trg_pad_idx=0).to(device)\n",
    "\n",
    "criterion = torch.nn.CrossEntropyLoss(ignore_index=tokenizer.pad_token_id)\n",
    "optimizer = torch.optim.Adam(model.parameters(), lr=3e-5)"
   ],
   "metadata": {
    "collapsed": false,
    "ExecuteTime": {
     "end_time": "2024-05-13T16:57:35.969025Z",
     "start_time": "2024-05-13T16:57:35.703966Z"
    }
   },
   "id": "c4a37d6c2a6c93fe"
  },
  {
   "cell_type": "code",
   "execution_count": 624,
   "outputs": [
    {
     "name": "stderr",
     "output_type": "stream",
     "text": [
      "100%|██████████| 6250/6250 [46:08<00:00,  2.26it/s]  \n"
     ]
    },
    {
     "name": "stdout",
     "output_type": "stream",
     "text": [
      "Epoch 1/10, Train Loss: 5.46729545539856\n"
     ]
    },
    {
     "name": "stderr",
     "output_type": "stream",
     "text": [
      "100%|██████████| 6250/6250 [49:50<00:00,  2.09it/s]   \n"
     ]
    },
    {
     "name": "stdout",
     "output_type": "stream",
     "text": [
      "Epoch 2/10, Train Loss: 4.6196503998565674\n"
     ]
    },
    {
     "name": "stderr",
     "output_type": "stream",
     "text": [
      "100%|██████████| 6250/6250 [48:18<00:00,  2.16it/s]   \n"
     ]
    },
    {
     "name": "stdout",
     "output_type": "stream",
     "text": [
      "Epoch 3/10, Train Loss: 4.298205116729736\n"
     ]
    },
    {
     "name": "stderr",
     "output_type": "stream",
     "text": [
      "100%|██████████| 6250/6250 [45:12<00:00,  2.30it/s] \n"
     ]
    },
    {
     "name": "stdout",
     "output_type": "stream",
     "text": [
      "Epoch 4/10, Train Loss: 4.051104640884399\n"
     ]
    },
    {
     "name": "stderr",
     "output_type": "stream",
     "text": [
      "100%|██████████| 6250/6250 [44:24<00:00,  2.35it/s]\n"
     ]
    },
    {
     "name": "stdout",
     "output_type": "stream",
     "text": [
      "Epoch 5/10, Train Loss: 3.8409506521224976\n"
     ]
    },
    {
     "name": "stderr",
     "output_type": "stream",
     "text": [
      "100%|██████████| 6250/6250 [43:50<00:00,  2.38it/s]\n"
     ]
    },
    {
     "name": "stdout",
     "output_type": "stream",
     "text": [
      "Epoch 6/10, Train Loss: 3.6653189277648925\n"
     ]
    },
    {
     "name": "stderr",
     "output_type": "stream",
     "text": [
      "100%|██████████| 6250/6250 [46:21<00:00,  2.25it/s] \n"
     ]
    },
    {
     "name": "stdout",
     "output_type": "stream",
     "text": [
      "Epoch 7/10, Train Loss: 3.5161287268829344\n"
     ]
    },
    {
     "name": "stderr",
     "output_type": "stream",
     "text": [
      "100%|██████████| 6250/6250 [46:10<00:00,  2.26it/s]   \n"
     ]
    },
    {
     "name": "stdout",
     "output_type": "stream",
     "text": [
      "Epoch 8/10, Train Loss: 3.3885325021743773\n"
     ]
    },
    {
     "name": "stderr",
     "output_type": "stream",
     "text": [
      "100%|██████████| 6250/6250 [45:14<00:00,  2.30it/s]\n"
     ]
    },
    {
     "name": "stdout",
     "output_type": "stream",
     "text": [
      "Epoch 9/10, Train Loss: 3.277026579055786\n"
     ]
    },
    {
     "name": "stderr",
     "output_type": "stream",
     "text": [
      "100%|██████████| 6250/6250 [45:18<00:00,  2.30it/s] \n"
     ]
    },
    {
     "name": "stdout",
     "output_type": "stream",
     "text": [
      "Epoch 10/10, Train Loss: 3.1787816304397585\n"
     ]
    }
   ],
   "source": [
    "from tqdm import tqdm\n",
    "# Train the model\n",
    "num_epochs = 10\n",
    "for epoch in range(num_epochs):\n",
    "    train_loss = 0.0\n",
    "    model.train()\n",
    "    for batch in tqdm(train_loader):\n",
    "        input_ids, labels = batch[0].to(device), batch[1].to(device)\n",
    "        optimizer.zero_grad()\n",
    "        outputs = model(input_ids, labels[:, :-1])\n",
    "        \n",
    "        loss = criterion(outputs.view(-1, 35000), labels[:, 1:].contiguous().view(-1))\n",
    "        loss.backward()\n",
    "        optimizer.step()\n",
    "        train_loss += loss.item()        \n",
    "\n",
    "    val_loss = 0.0\n",
    "    model.eval()\n",
    "    with torch.no_grad():\n",
    "        for batch in val_loader:\n",
    "            input_ids, labels = batch[0].to(device), batch[1].to(device)\n",
    "            outputs = model(input_ids, labels[:, :-1])\n",
    "            loss = criterion(outputs.view(-1, 35000), labels[:, 1:].contiguous().view(-1))\n",
    "            val_loss += loss.item()\n",
    "\n",
    "    print(f\"Epoch {epoch+1}/{num_epochs}, Train Loss: {train_loss/len(train_loader)}\")"
   ],
   "metadata": {
    "collapsed": false,
    "ExecuteTime": {
     "end_time": "2024-05-14T00:41:02.503054Z",
     "start_time": "2024-05-13T16:57:35.973474Z"
    }
   },
   "id": "1bc659078b99b6ca"
  },
  {
   "cell_type": "code",
   "execution_count": 635,
   "outputs": [
    {
     "name": "stdout",
     "output_type": "stream",
     "text": [
      "Input sentence: <2de> ich bin in mein helfen\n",
      "Translation: . I in</s></s>aer</s> the.</s>\n"
     ]
    }
   ],
   "source": [
    "from transformers import AutoTokenizer\n",
    "\n",
    "# Initialize tokenizer\n",
    "tokenizer = AutoTokenizer.from_pretrained(\"t5-base\")\n",
    "\n",
    "# Input sentence\n",
    "input_sentence = \"<2de> ich bin in mein helfen\"\n",
    "\n",
    "# Tokenize and convert to tensor\n",
    "input_ids = tokenizer.encode(input_sentence, return_tensors=\"pt\")\n",
    "\n",
    "# Create source mask\n",
    "src_mask = model.make_src_mask(input_ids)\n",
    "\n",
    "# Generate translation\n",
    "model.eval()\n",
    "with torch.no_grad():\n",
    "    output = model(input_ids, input_ids[:, :-1])\n",
    "    decoded_output = output.argmax(dim=-1)\n",
    "\n",
    "# Decode output tensor\n",
    "translation = tokenizer.decode(decoded_output.squeeze(), skip_special_tokens=False)\n",
    "\n",
    "print(\"Input sentence:\", input_sentence)\n",
    "print(\"Translation:\", translation)\n"
   ],
   "metadata": {
    "collapsed": false,
    "ExecuteTime": {
     "end_time": "2024-05-14T00:57:29.146487Z",
     "start_time": "2024-05-14T00:57:28.602018Z"
    }
   },
   "id": "38ed023f75898d42"
  },
  {
   "cell_type": "markdown",
   "source": [
    "One of the people assassinated very recently in Sri Lanka was Mr Kumar Ponnambalam, who had visited the European Parliament just a few months ago.')\n",
    "\n",
    "\n"
   ],
   "metadata": {
    "collapsed": false
   },
   "id": "8a105959a9ef7afa"
  },
  {
   "cell_type": "code",
   "execution_count": 626,
   "outputs": [],
   "source": [
    "torch.save(model.state_dict(), \"10E2K.pth\")"
   ],
   "metadata": {
    "collapsed": false,
    "ExecuteTime": {
     "end_time": "2024-05-14T00:44:08.814099Z",
     "start_time": "2024-05-14T00:44:08.540289Z"
    }
   },
   "id": "a603344780ceca33"
  }
 ],
 "metadata": {
  "kernelspec": {
   "display_name": "Python 3",
   "language": "python",
   "name": "python3"
  },
  "language_info": {
   "codemirror_mode": {
    "name": "ipython",
    "version": 2
   },
   "file_extension": ".py",
   "mimetype": "text/x-python",
   "name": "python",
   "nbconvert_exporter": "python",
   "pygments_lexer": "ipython2",
   "version": "2.7.6"
  }
 },
 "nbformat": 4,
 "nbformat_minor": 5
}
